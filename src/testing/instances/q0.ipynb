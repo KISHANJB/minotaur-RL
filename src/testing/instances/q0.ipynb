{
 "cells": [
  {
   "cell_type": "code",
   "execution_count": null,
   "id": "23608187-8087-42d4-af00-7e6fc37f1a72",
   "metadata": {},
   "outputs": [],
   "source": [
    "from pyomo.environ import *\n",
    "\n",
    "# first create an optimization model\n",
    "model = m = ConcreteModel()\n",
    "m.x1 = Var(within=Integers)\n",
    "m.obj = Objective(sense=minimize, expr= (m.x1**2 - 2*m.x1 + 1))\n",
    "m.con1 = Constraint(expr=(m.x1>=3.5))\n",
    "\n",
    "# initiate the solver, set options and and solve\n",
    "solver = SolverFactory(\"mglob\", executable=\"/home/amahajan/minotaur/build/bin/mglob\")\n",
    "solver.options['--time_limit']= 600\n",
    "solver.options['--log_level']=3\n",
    "result = solver.solve(model, tee=True)\n",
    "\n",
    "# print results\n",
    "print(\"Solver status = \", result.solver.status)\n",
    "print(\"Optimal values:\")\n",
    "print(\"x1 = \",m.x1.value)"
   ]
  }
 ],
 "metadata": {
  "kernelspec": {
   "display_name": "Python 3 (ipykernel)",
   "language": "python",
   "name": "python3"
  },
  "language_info": {
   "codemirror_mode": {
    "name": "ipython",
    "version": 3
   },
   "file_extension": ".py",
   "mimetype": "text/x-python",
   "name": "python",
   "nbconvert_exporter": "python",
   "pygments_lexer": "ipython3",
   "version": "3.11.2"
  }
 },
 "nbformat": 4,
 "nbformat_minor": 5
}
